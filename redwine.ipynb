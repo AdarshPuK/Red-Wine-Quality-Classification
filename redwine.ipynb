{
 "cells": [
  {
   "cell_type": "markdown",
   "metadata": {
    "id": "BEjvUULGxRZn"
   },
   "source": [
    "# Importing the libraries"
   ]
  },
  {
   "cell_type": "code",
   "execution_count": 1,
   "metadata": {
    "id": "YiETNoYLx20X"
   },
   "outputs": [],
   "source": [
    "import numpy as np\n",
    "import matplotlib.pyplot as plt\n",
    "import pandas as pd"
   ]
  },
  {
   "cell_type": "markdown",
   "metadata": {
    "id": "hxR3bWH9xrpr"
   },
   "source": [
    "# Importing the dataset"
   ]
  },
  {
   "cell_type": "code",
   "execution_count": 2,
   "metadata": {
    "id": "a9p_9CIayJNk"
   },
   "outputs": [],
   "source": [
    "dataset=pd.read_csv(\"winequality-red.csv\")\n",
    "X=dataset.iloc[:,:-1].values\n",
    "y=dataset.iloc[:,-1].values"
   ]
  },
  {
   "cell_type": "markdown",
   "metadata": {
    "id": "_gDUAEohxuFm"
   },
   "source": [
    "# Splitting dataset into Training and test set"
   ]
  },
  {
   "cell_type": "code",
   "execution_count": 3,
   "metadata": {
    "id": "_9ALgUaz3l8B"
   },
   "outputs": [],
   "source": [
    "from sklearn.model_selection import train_test_split\n",
    "X_train,X_test,y_train,y_test=train_test_split(X,y,test_size=0.2,random_state=0)"
   ]
  },
  {
   "cell_type": "markdown",
   "metadata": {
    "id": "N_78yKRdxvAv"
   },
   "source": [
    "# Training XGBoost on training set"
   ]
  },
  {
   "cell_type": "code",
   "execution_count": 6,
   "metadata": {
    "colab": {
     "base_uri": "https://localhost:8080/"
    },
    "id": "s1ZxxDfX4y6D",
    "outputId": "5126140c-13b9-47a7-9606-1896fa18e131"
   },
   "outputs": [
    {
     "name": "stderr",
     "output_type": "stream",
     "text": [
      "C:\\Users\\Adarsh Puranik K\\anaconda3\\lib\\site-packages\\xgboost\\compat.py:36: FutureWarning: pandas.Int64Index is deprecated and will be removed from pandas in a future version. Use pandas.Index with the appropriate dtype instead.\n",
      "  from pandas import MultiIndex, Int64Index\n",
      "C:\\Users\\Adarsh Puranik K\\anaconda3\\lib\\site-packages\\xgboost\\sklearn.py:1224: UserWarning: The use of label encoder in XGBClassifier is deprecated and will be removed in a future release. To remove this warning, do the following: 1) Pass option use_label_encoder=False when constructing XGBClassifier object; and 2) Encode your labels (y) as integers starting with 0, i.e. 0, 1, 2, ..., [num_class - 1].\n",
      "  warnings.warn(label_encoder_deprecation_msg, UserWarning)\n"
     ]
    },
    {
     "name": "stdout",
     "output_type": "stream",
     "text": [
      "[17:21:41] WARNING: ..\\src\\learner.cc:1115: Starting in XGBoost 1.3.0, the default evaluation metric used with the objective 'multi:softprob' was changed from 'merror' to 'mlogloss'. Explicitly set eval_metric if you'd like to restore the old behavior.\n"
     ]
    },
    {
     "data": {
      "text/plain": [
       "XGBClassifier(base_score=0.5, booster='gbtree', colsample_bylevel=1,\n",
       "              colsample_bynode=1, colsample_bytree=1, enable_categorical=False,\n",
       "              gamma=0, gpu_id=-1, importance_type=None,\n",
       "              interaction_constraints='', learning_rate=0.300000012,\n",
       "              max_delta_step=0, max_depth=6, min_child_weight=1, missing=nan,\n",
       "              monotone_constraints='()', n_estimators=100, n_jobs=8,\n",
       "              num_parallel_tree=1, objective='multi:softprob', predictor='auto',\n",
       "              random_state=0, reg_alpha=0, reg_lambda=1, scale_pos_weight=None,\n",
       "              subsample=1, tree_method='exact', validate_parameters=1,\n",
       "              verbosity=None)"
      ]
     },
     "execution_count": 6,
     "metadata": {},
     "output_type": "execute_result"
    }
   ],
   "source": [
    "from xgboost import XGBClassifier\n",
    "regressor=XGBClassifier()\n",
    "regressor.fit(X_train,y_train)"
   ]
  },
  {
   "cell_type": "markdown",
   "metadata": {
    "id": "Wh3HQ058xvrt"
   },
   "source": [
    "# Making the confusion matrix"
   ]
  },
  {
   "cell_type": "code",
   "execution_count": 7,
   "metadata": {
    "colab": {
     "base_uri": "https://localhost:8080/"
    },
    "id": "EPZcjqrCME3v",
    "outputId": "f62d6a85-9c3e-4c02-d35f-992030add94e"
   },
   "outputs": [
    {
     "name": "stdout",
     "output_type": "stream",
     "text": [
      "[[5 6]\n",
      " [5 5]\n",
      " [7 7]\n",
      " [5 6]\n",
      " [5 5]\n",
      " [6 6]\n",
      " [5 5]\n",
      " [6 6]\n",
      " [5 4]\n",
      " [5 5]\n",
      " [5 5]\n",
      " [5 5]\n",
      " [6 6]\n",
      " [6 5]\n",
      " [5 6]\n",
      " [7 6]\n",
      " [7 7]\n",
      " [5 5]\n",
      " [5 5]\n",
      " [5 4]\n",
      " [6 7]\n",
      " [5 6]\n",
      " [6 6]\n",
      " [5 4]\n",
      " [5 6]\n",
      " [5 5]\n",
      " [5 5]\n",
      " [7 7]\n",
      " [5 5]\n",
      " [7 6]\n",
      " [6 5]\n",
      " [6 6]\n",
      " [6 5]\n",
      " [5 6]\n",
      " [7 7]\n",
      " [7 7]\n",
      " [5 5]\n",
      " [6 6]\n",
      " [6 6]\n",
      " [7 7]\n",
      " [5 5]\n",
      " [7 7]\n",
      " [6 6]\n",
      " [7 6]\n",
      " [6 5]\n",
      " [5 5]\n",
      " [5 6]\n",
      " [6 6]\n",
      " [6 6]\n",
      " [6 5]\n",
      " [5 5]\n",
      " [5 5]\n",
      " [6 6]\n",
      " [6 6]\n",
      " [6 6]\n",
      " [5 5]\n",
      " [5 5]\n",
      " [5 5]\n",
      " [7 6]\n",
      " [5 5]\n",
      " [5 5]\n",
      " [5 6]\n",
      " [6 6]\n",
      " [6 6]\n",
      " [5 5]\n",
      " [7 6]\n",
      " [5 5]\n",
      " [5 5]\n",
      " [7 6]\n",
      " [6 6]\n",
      " [5 6]\n",
      " [5 6]\n",
      " [5 4]\n",
      " [6 6]\n",
      " [6 5]\n",
      " [6 6]\n",
      " [5 5]\n",
      " [5 5]\n",
      " [5 5]\n",
      " [7 6]\n",
      " [6 6]\n",
      " [5 5]\n",
      " [6 6]\n",
      " [6 6]\n",
      " [6 6]\n",
      " [5 5]\n",
      " [6 6]\n",
      " [5 5]\n",
      " [6 5]\n",
      " [5 5]\n",
      " [5 5]\n",
      " [6 6]\n",
      " [6 4]\n",
      " [5 5]\n",
      " [5 7]\n",
      " [5 6]\n",
      " [7 6]\n",
      " [5 5]\n",
      " [5 6]\n",
      " [5 5]\n",
      " [7 8]\n",
      " [6 6]\n",
      " [5 6]\n",
      " [6 6]\n",
      " [5 5]\n",
      " [5 5]\n",
      " [5 5]\n",
      " [6 5]\n",
      " [6 7]\n",
      " [5 5]\n",
      " [6 6]\n",
      " [5 5]\n",
      " [8 7]\n",
      " [5 5]\n",
      " [6 6]\n",
      " [6 6]\n",
      " [5 6]\n",
      " [7 7]\n",
      " [7 6]\n",
      " [6 6]\n",
      " [5 5]\n",
      " [6 7]\n",
      " [5 5]\n",
      " [5 5]\n",
      " [6 6]\n",
      " [7 6]\n",
      " [5 5]\n",
      " [5 5]\n",
      " [6 5]\n",
      " [6 6]\n",
      " [6 6]\n",
      " [5 6]\n",
      " [6 6]\n",
      " [6 6]\n",
      " [6 6]\n",
      " [5 5]\n",
      " [6 6]\n",
      " [5 5]\n",
      " [7 8]\n",
      " [5 5]\n",
      " [6 6]\n",
      " [5 5]\n",
      " [5 6]\n",
      " [5 5]\n",
      " [5 4]\n",
      " [6 6]\n",
      " [8 7]\n",
      " [6 6]\n",
      " [5 5]\n",
      " [5 6]\n",
      " [6 6]\n",
      " [5 5]\n",
      " [6 5]\n",
      " [5 5]\n",
      " [6 6]\n",
      " [6 6]\n",
      " [6 3]\n",
      " [5 6]\n",
      " [6 6]\n",
      " [7 6]\n",
      " [5 6]\n",
      " [6 6]\n",
      " [6 6]\n",
      " [5 6]\n",
      " [5 5]\n",
      " [5 5]\n",
      " [6 6]\n",
      " [7 6]\n",
      " [6 6]\n",
      " [6 6]\n",
      " [6 5]\n",
      " [6 5]\n",
      " [5 5]\n",
      " [7 8]\n",
      " [4 5]\n",
      " [6 6]\n",
      " [5 6]\n",
      " [7 7]\n",
      " [7 7]\n",
      " [5 5]\n",
      " [5 5]\n",
      " [7 7]\n",
      " [6 5]\n",
      " [7 6]\n",
      " [6 6]\n",
      " [5 4]\n",
      " [6 5]\n",
      " [5 6]\n",
      " [5 5]\n",
      " [5 5]\n",
      " [6 6]\n",
      " [5 5]\n",
      " [5 6]\n",
      " [6 6]\n",
      " [5 5]\n",
      " [5 5]\n",
      " [5 5]\n",
      " [5 5]\n",
      " [5 5]\n",
      " [5 5]\n",
      " [5 5]\n",
      " [6 6]\n",
      " [6 6]\n",
      " [6 5]\n",
      " [5 6]\n",
      " [5 6]\n",
      " [5 5]\n",
      " [6 6]\n",
      " [7 7]\n",
      " [6 6]\n",
      " [6 6]\n",
      " [6 6]\n",
      " [5 5]\n",
      " [6 5]\n",
      " [5 5]\n",
      " [6 6]\n",
      " [5 5]\n",
      " [6 6]\n",
      " [6 6]\n",
      " [5 5]\n",
      " [5 5]\n",
      " [5 5]\n",
      " [6 6]\n",
      " [5 6]\n",
      " [6 5]\n",
      " [6 6]\n",
      " [6 6]\n",
      " [6 6]\n",
      " [6 3]\n",
      " [5 6]\n",
      " [5 5]\n",
      " [6 5]\n",
      " [5 7]\n",
      " [5 6]\n",
      " [7 7]\n",
      " [6 6]\n",
      " [6 6]\n",
      " [7 7]\n",
      " [7 7]\n",
      " [6 6]\n",
      " [5 5]\n",
      " [6 6]\n",
      " [5 5]\n",
      " [5 5]\n",
      " [6 6]\n",
      " [5 5]\n",
      " [6 5]\n",
      " [5 5]\n",
      " [5 5]\n",
      " [6 6]\n",
      " [5 5]\n",
      " [6 5]\n",
      " [5 5]\n",
      " [5 6]\n",
      " [5 6]\n",
      " [6 5]\n",
      " [5 5]\n",
      " [5 5]\n",
      " [5 6]\n",
      " [7 7]\n",
      " [5 5]\n",
      " [6 6]\n",
      " [5 5]\n",
      " [6 6]\n",
      " [5 5]\n",
      " [5 4]\n",
      " [5 5]\n",
      " [5 5]\n",
      " [5 6]\n",
      " [7 7]\n",
      " [5 6]\n",
      " [5 5]\n",
      " [5 5]\n",
      " [5 4]\n",
      " [6 5]\n",
      " [6 6]\n",
      " [5 7]\n",
      " [6 6]\n",
      " [6 6]\n",
      " [7 7]\n",
      " [5 5]\n",
      " [7 7]\n",
      " [5 5]\n",
      " [6 6]\n",
      " [6 6]\n",
      " [5 5]\n",
      " [5 5]\n",
      " [5 5]\n",
      " [7 6]\n",
      " [6 6]\n",
      " [5 5]\n",
      " [5 6]\n",
      " [6 6]\n",
      " [6 6]\n",
      " [5 5]\n",
      " [6 6]\n",
      " [6 6]\n",
      " [6 5]\n",
      " [5 6]\n",
      " [5 5]\n",
      " [6 6]\n",
      " [5 5]\n",
      " [6 6]\n",
      " [6 6]\n",
      " [6 6]\n",
      " [6 6]\n",
      " [6 5]\n",
      " [5 5]\n",
      " [5 6]\n",
      " [5 5]\n",
      " [5 5]\n",
      " [6 6]\n",
      " [5 5]\n",
      " [5 5]\n",
      " [5 5]\n",
      " [6 6]\n",
      " [6 4]\n",
      " [6 5]\n",
      " [5 4]\n",
      " [7 6]]\n"
     ]
    }
   ],
   "source": [
    "y_pred = regressor.predict(X_test)\n",
    "print(np.concatenate((y_pred.reshape(len(y_pred),1), y_test.reshape(len(y_test),1)),1))"
   ]
  },
  {
   "cell_type": "markdown",
   "metadata": {
    "id": "IGtIxG5pxwfb"
   },
   "source": [
    "# New Section"
   ]
  },
  {
   "cell_type": "markdown",
   "metadata": {
    "id": "Os4m-72RxxIy"
   },
   "source": [
    "# New Section"
   ]
  },
  {
   "cell_type": "markdown",
   "metadata": {
    "id": "nqLFlzzixxpt"
   },
   "source": [
    "# New Section"
   ]
  },
  {
   "cell_type": "markdown",
   "metadata": {
    "id": "mBXIkBojxyJo"
   },
   "source": [
    "# New Section"
   ]
  }
 ],
 "metadata": {
  "colab": {
   "collapsed_sections": [],
   "name": "Untitled0.ipynb",
   "provenance": []
  },
  "kernelspec": {
   "display_name": "Python 3 (ipykernel)",
   "language": "python",
   "name": "python3"
  },
  "language_info": {
   "codemirror_mode": {
    "name": "ipython",
    "version": 3
   },
   "file_extension": ".py",
   "mimetype": "text/x-python",
   "name": "python",
   "nbconvert_exporter": "python",
   "pygments_lexer": "ipython3",
   "version": "3.9.12"
  }
 },
 "nbformat": 4,
 "nbformat_minor": 1
}
